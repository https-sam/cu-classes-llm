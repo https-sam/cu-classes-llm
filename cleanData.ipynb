{
 "cells": [
  {
   "cell_type": "code",
   "execution_count": 1,
   "metadata": {},
   "outputs": [],
   "source": [
    "#imports:\n",
    "import pandas as pd\n",
    "import json"
   ]
  },
  {
   "cell_type": "code",
   "execution_count": 2,
   "metadata": {},
   "outputs": [],
   "source": [
    "file_path = 'classdetails.json' #file path of the json\n",
    "\n",
    "# Read the JSON file\n",
    "with open(file_path, 'r') as file:\n",
    "    data = json.load(file)\n",
    "\n",
    "courses = data\n",
    "\n",
    "course_dict = {}\n",
    "for course in courses:\n",
    "    #grab the code, title, description, and hours:\n",
    "    code = course.get(\"code\", \"\")\n",
    "    title = course.get(\"title\", \"\")\n",
    "    description = course.get(\"description\", \"\")\n",
    "    hours = course.get(\"hours\", \"\")\n",
    "    \n",
    "    if code not in course_dict: #make sure that the code is not already present within the dictionary, only add unique classes\n",
    "        course_dict[code] = {\n",
    "            \"Class Code\": code,\n",
    "            \"Class Title\": title,\n",
    "            \"Class Description\": description,\n",
    "            \"Credit Hours\": hours,\n",
    "            \"Class Instructors\": [],\n",
    "            \"Academic Career\":[]\n",
    "        }\n",
    "    \n",
    "    for group in course.get(\"allInGroup\", []): #now go into each \"allInGroup\" element and graph instr and acad_career\n",
    "        instructor = group.get(\"instr\", \"\").strip()\n",
    "        acad_career = group.get(\"acad_career\", \"\").strip()\n",
    "\n",
    "        if instructor and instructor not in course_dict[code][\"Class Instructors\"]: #check to make sure that the instructor is not already present in the list of instructors\n",
    "            course_dict[code][\"Class Instructors\"].append(instructor)\n",
    "        if acad_career and acad_career not in course_dict[code][\"Academic Career\"]: #make sure that we are not adding the same Academic Career already present in the df\n",
    "            course_dict[code][\"Academic Career\"].append(acad_career)\n",
    "\n",
    "\n",
    "df = pd.DataFrame.from_dict(course_dict, orient='index') #create df from dict\n",
    "\n",
    "\n",
    "df['Class Instructors'] = df['Class Instructors'].apply(lambda x: ', '.join(x)) #add comma\n",
    "df['Academic Career'] = df['Academic Career'].apply(lambda x: ''.join(x)) #remove array brackets ['']\n",
    "\n",
    "df.to_csv('classFeatures.csv', index=False) #convert to csv\n"
   ]
  },
  {
   "cell_type": "code",
   "execution_count": null,
   "metadata": {},
   "outputs": [],
   "source": []
  }
 ],
 "metadata": {
  "kernelspec": {
   "display_name": "base",
   "language": "python",
   "name": "python3"
  },
  "language_info": {
   "codemirror_mode": {
    "name": "ipython",
    "version": 3
   },
   "file_extension": ".py",
   "mimetype": "text/x-python",
   "name": "python",
   "nbconvert_exporter": "python",
   "pygments_lexer": "ipython3",
   "version": "3.9.12"
  }
 },
 "nbformat": 4,
 "nbformat_minor": 2
}
