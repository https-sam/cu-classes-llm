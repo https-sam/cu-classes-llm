{
 "cells": [
  {
   "cell_type": "code",
   "execution_count": 22,
   "id": "8dd1f94d-8fbc-4e4b-b735-9502a76cbe48",
   "metadata": {},
   "outputs": [],
   "source": [
    "import openai\n",
    "import pandas as pd\n",
    "import os\n",
    "from tqdm import tqdm\n",
    "import json"
   ]
  },
  {
   "cell_type": "code",
   "execution_count": 33,
   "id": "eb4e0928-6e77-4d9e-b3a1-c493c0b1aa3a",
   "metadata": {},
   "outputs": [
    {
     "name": "stderr",
     "output_type": "stream",
     "text": [
      " 65%|█████████████████████████████████████████████████████████████████████████████████▎                                           | 13/20 [01:17<00:41,  5.90s/it]"
     ]
    },
    {
     "name": "stdout",
     "output_type": "stream",
     "text": [
      "Failed to decode JSON from response content: [{'input': 'What is Exploring a Non-Western Culture: The Maya?', 'output': 'Exploring a Non-Western Culture: The Maya is a course with the class code ANTH 1140. It explores the culture of the Maya of Central America, emphasizing their material adaptations, social organizations, ideals and values, and artistic achievements in the past and the present.'}, {'input': 'Can you describe ANTH 1140?', 'output': 'ANTH 1140, also known as Exploring a Non-Western Culture: The Maya, is a course that focuses on studying the culture of the Maya civilization in Central America. The course examines various aspects such as their material adaptations, social organizations, ideals and values, and artistic achievements throughout history and in the present.'}, {'input': 'How many credit hours is Exploring a Non-Western Culture: The Maya worth?', 'output': 'The number of credit hours for Exploring a Non-Western Culture: The Maya may vary depending on the specific section of the course. Please consult the course schedule or your academic advisor for the exact number of credit hours for the section you plan on enrolling in.'}, {'input': 'Who teaches Exploring a Non-Western Culture: The Maya?', 'output': 'Exploring a Non-Western Culture: The Maya is taught by S. Kurnick and J. Brzezinski. These instructors bring their expertise and knowledge in the subject to provide students with a comprehensive understanding of the Maya culture and its various aspects.'}, {'input': 'What is the academic career for Exploring a Non-Western Culture: The Maya?', 'output': 'Exploring a Non-Western Culture: The Maya is offered as an undergraduate course. It is part of the undergraduate academic program and is designed for students pursuing their undergraduate degree.'}, {'input': 'Are there any restrictions for enrolling in Exploring a Non-Western Culture: The Maya?', 'output': \"There is no information available about any specific restrictions or prerequisites for enrolling in Exploring a Non-Western Culture: The Maya. It is always recommended to check the course details or consult with the academic department offering the course for any specific requirements or recommendations.\"}]\n"
     ]
    },
    {
     "name": "stderr",
     "output_type": "stream",
     "text": [
      "100%|█████████████████████████████████████████████████████████████████████████████████████████████████████████████████████████████| 20/20 [01:59<00:00,  5.98s/it]"
     ]
    },
    {
     "name": "stdout",
     "output_type": "stream",
     "text": [
      "Failed to decode JSON from response content: [{'input': 'What is Laboratory in Biological Anthropology 1?', 'output': 'Laboratory in Biological Anthropology 1 is a course with the class code ANTH 2030. It is a lab-based course that focuses on human osteology and the musculoskeletal system. The course emphasizes comparative primate morphology, adaptation, and the fossil record documenting the natural history of primates. It is recommended to take the course alongside ANTH 2010. When taken with ANTH 2010, it fulfills the MAPS requirement for natural science lab.'} ,\n",
      "{'input': 'Can you describe ANTH 2030?', 'output': 'ANTH 2030 is a course with the class code ANTH 2030. It is a lab-based course in Biological Anthropology that focuses on human osteology and the musculoskeletal system. The course emphasizes comparative primate morphology, adaptation, and the fossil record documenting the natural history of primates. It is recommended to take the course alongside ANTH 2010. When taken with ANTH 2010, it fulfills the MAPS requirement for natural science lab. The course is worth 1 credit hour and is offered for undergraduate students.'},\n",
      "{'input': 'How many credit hours is Laboratory in Biological Anthropology 1 worth?', 'output': 'Laboratory in Biological Anthropology 1 is worth 1 credit hour.'},\n",
      "{'input': 'Who teaches Laboratory in Biological Anthropology 1?', 'output': 'The instructor for Laboratory in Biological Anthropology 1 is not specified.'},\n",
      "{'input': 'What is the academic career for Laboratory in Biological Anthropology 1?', 'output': 'The academic career for Laboratory in Biological Anthropology 1 is undergraduate (UGRD).'},\n",
      "{'input': 'Are there any restrictions for enrolling in Laboratory in Biological Anthropology 1?', 'output': 'There is no information available about specific restrictions for enrolling in Laboratory in Biological Anthropology 1.'}]\n"
     ]
    },
    {
     "name": "stderr",
     "output_type": "stream",
     "text": [
      "\n"
     ]
    }
   ],
   "source": [
    "data = pd.read_csv('data/classFeatures.csv')\n",
    "openai.api_key = \"<CHANGE>\"\n",
    "client = openai.ChatCompletion\n",
    "\n",
    "def generate_qa_for_class(row):\n",
    "    context = (\n",
    "        \"Generate training data for a language model. Provide detailed answers to each question in the following format: \\n\"\n",
    "        \"[{input: <question>, output: <detailed answer>}, ...] \\n\"\n",
    "        \"ALWAYS respond with a valid json \\n\\n\"\n",
    "        f\"Here is the data for this class: {row.to_dict()}\"\n",
    "    )\n",
    "    \n",
    "    questions = [\n",
    "        f\"What is {row['Class Title']}?\",\n",
    "        f\"Can you describe {row['Class Code']}?\",\n",
    "        f\"How many credit hours is {row['Class Title']} worth?\",\n",
    "        f\"Who teaches {row['Class Title']}?\",\n",
    "        f\"What is the academic career for {row['Class Title']}?\",\n",
    "        f\"Are there any restrictions for enrolling in {row['Class Title']}?\"\n",
    "    ]\n",
    "\n",
    "    messages = [\n",
    "        {\"role\": \"system\", \"content\": context},\n",
    "        *[\n",
    "            {\"role\": \"user\", \"content\": question}\n",
    "            for question in questions\n",
    "        ]\n",
    "    ]\n",
    "\n",
    "    response = client.create(\n",
    "        model=\"gpt-3.5-turbo-16k\",\n",
    "        messages=messages,\n",
    "        temperature=1,\n",
    "        max_tokens=4096,\n",
    "        top_p=1,\n",
    "        frequency_penalty=0,\n",
    "        presence_penalty=0\n",
    "    )\n",
    "\n",
    "    content_str = response['choices'][0]['message']['content']\n",
    "    # remove markdown tokens\n",
    "    content_str = content_str.replace('```json', '').replace('```', '').strip()\n",
    "\n",
    "    try:\n",
    "        answers = json.loads(content_str)\n",
    "    except json.JSONDecodeError:\n",
    "        # we need to take care of invalid json, probably save them somewhere and process them in a batch later on ..?\n",
    "        print(f\"Failed to decode JSON from response content: {content_str}\")\n",
    "        answers = []\n",
    "\n",
    "    return answers\n",
    "\n",
    "\n",
    "qa_data = []\n",
    "for index, row in tqdm(data.iloc[:20].iterrows(), total=20):\n",
    "    qa_pairs = generate_qa_for_class(row)\n",
    "    qa_data.extend(qa_pairs)\n",
    "\n",
    "qa_df = pd.DataFrame(qa_data)\n",
    "qa_df.to_csv('class_qa.csv', index=False)"
   ]
  },
  {
   "cell_type": "code",
   "execution_count": null,
   "id": "3c1fb1a4-d9bc-44a9-945b-ca45ed9e9f7d",
   "metadata": {},
   "outputs": [],
   "source": []
  }
 ],
 "metadata": {
  "kernelspec": {
   "display_name": "Python 3 (ipykernel)",
   "language": "python",
   "name": "python3"
  },
  "language_info": {
   "codemirror_mode": {
    "name": "ipython",
    "version": 3
   },
   "file_extension": ".py",
   "mimetype": "text/x-python",
   "name": "python",
   "nbconvert_exporter": "python",
   "pygments_lexer": "ipython3",
   "version": "3.11.5"
  }
 },
 "nbformat": 4,
 "nbformat_minor": 5
}
