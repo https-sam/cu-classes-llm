{
 "cells": [
  {
   "cell_type": "code",
   "execution_count": 38,
   "id": "8dd1f94d-8fbc-4e4b-b735-9502a76cbe48",
   "metadata": {},
   "outputs": [],
   "source": [
    "import openai\n",
    "import pandas as pd\n",
    "import os\n",
    "from tqdm import tqdm\n",
    "import json\n",
    "from concurrent.futures import ThreadPoolExecutor, as_completed"
   ]
  },
  {
   "cell_type": "code",
   "execution_count": 52,
   "id": "eb4e0928-6e77-4d9e-b3a1-c493c0b1aa3a",
   "metadata": {},
   "outputs": [
    {
     "name": "stdout",
     "output_type": "stream",
     "text": [
      "91\n"
     ]
    },
    {
     "name": "stderr",
     "output_type": "stream",
     "text": [
      "Generating Q&A:   1%|█▏                                                                                                            | 1/91 [00:04<06:51,  4.57s/it]"
     ]
    },
    {
     "name": "stdout",
     "output_type": "stream",
     "text": [
      "Failed to decode JSON from response content\n"
     ]
    },
    {
     "name": "stderr",
     "output_type": "stream",
     "text": [
      "Generating Q&A:   5%|██████                                                                                                        | 5/91 [00:05<00:54,  1.57it/s]"
     ]
    },
    {
     "name": "stdout",
     "output_type": "stream",
     "text": [
      "Failed to decode JSON from response content\n"
     ]
    },
    {
     "name": "stderr",
     "output_type": "stream",
     "text": [
      "Generating Q&A:   7%|███████▎                                                                                                      | 6/91 [00:06<00:56,  1.51it/s]"
     ]
    },
    {
     "name": "stdout",
     "output_type": "stream",
     "text": [
      "Failed to decode JSON from response content\n"
     ]
    },
    {
     "name": "stderr",
     "output_type": "stream",
     "text": [
      "Generating Q&A:  30%|████████████████████████████████▎                                                                            | 27/91 [00:14<00:23,  2.71it/s]"
     ]
    },
    {
     "name": "stdout",
     "output_type": "stream",
     "text": [
      "Failed to decode JSON from response content\n"
     ]
    },
    {
     "name": "stderr",
     "output_type": "stream",
     "text": [
      "Generating Q&A:  34%|█████████████████████████████████████▏                                                                       | 31/91 [00:16<00:37,  1.60it/s]"
     ]
    },
    {
     "name": "stdout",
     "output_type": "stream",
     "text": [
      "Failed to decode JSON from response content\n"
     ]
    },
    {
     "name": "stderr",
     "output_type": "stream",
     "text": [
      "Generating Q&A:  36%|███████████████████████████████████████▌                                                                     | 33/91 [00:17<00:24,  2.34it/s]"
     ]
    },
    {
     "name": "stdout",
     "output_type": "stream",
     "text": [
      "Failed to decode JSON from response content\n"
     ]
    },
    {
     "name": "stderr",
     "output_type": "stream",
     "text": [
      "Generating Q&A:  37%|████████████████████████████████████████▋                                                                    | 34/91 [00:17<00:23,  2.42it/s]"
     ]
    },
    {
     "name": "stdout",
     "output_type": "stream",
     "text": [
      "Failed to decode JSON from response content\n"
     ]
    },
    {
     "name": "stderr",
     "output_type": "stream",
     "text": [
      "Generating Q&A:  41%|████████████████████████████████████████████▎                                                                | 37/91 [00:19<00:25,  2.12it/s]"
     ]
    },
    {
     "name": "stdout",
     "output_type": "stream",
     "text": [
      "Failed to decode JSON from response content\n",
      "Failed to decode JSON from response content\n"
     ]
    },
    {
     "name": "stderr",
     "output_type": "stream",
     "text": [
      "Generating Q&A:  57%|██████████████████████████████████████████████████████████████▎                                              | 52/91 [00:25<00:17,  2.18it/s]"
     ]
    },
    {
     "name": "stdout",
     "output_type": "stream",
     "text": [
      "Failed to decode JSON from response content\n"
     ]
    },
    {
     "name": "stderr",
     "output_type": "stream",
     "text": [
      "Generating Q&A:  58%|███████████████████████████████████████████████████████████████▍                                             | 53/91 [00:25<00:15,  2.38it/s]"
     ]
    },
    {
     "name": "stdout",
     "output_type": "stream",
     "text": [
      "Failed to decode JSON from response content\n"
     ]
    },
    {
     "name": "stderr",
     "output_type": "stream",
     "text": [
      "Generating Q&A:  60%|█████████████████████████████████████████████████████████████████▉                                           | 55/91 [00:27<00:22,  1.61it/s]"
     ]
    },
    {
     "name": "stdout",
     "output_type": "stream",
     "text": [
      "Failed to decode JSON from response content\n",
      "Failed to decode JSON from response content\n"
     ]
    },
    {
     "name": "stderr",
     "output_type": "stream",
     "text": [
      "Generating Q&A:  66%|███████████████████████████████████████████████████████████████████████▊                                     | 60/91 [00:28<00:09,  3.28it/s]"
     ]
    },
    {
     "name": "stdout",
     "output_type": "stream",
     "text": [
      "Failed to decode JSON from response content\n",
      "Failed to decode JSON from response content\n"
     ]
    },
    {
     "name": "stderr",
     "output_type": "stream",
     "text": [
      "Generating Q&A:  68%|██████████████████████████████████████████████████████████████████████████▎                                  | 62/91 [00:29<00:13,  2.13it/s]"
     ]
    },
    {
     "name": "stdout",
     "output_type": "stream",
     "text": [
      "Failed to decode JSON from response content\n"
     ]
    },
    {
     "name": "stderr",
     "output_type": "stream",
     "text": [
      "Generating Q&A:  71%|█████████████████████████████████████████████████████████████████████████████▊                               | 65/91 [00:30<00:08,  3.16it/s]"
     ]
    },
    {
     "name": "stdout",
     "output_type": "stream",
     "text": [
      "Failed to decode JSON from response content\n"
     ]
    },
    {
     "name": "stderr",
     "output_type": "stream",
     "text": [
      "Generating Q&A:  75%|█████████████████████████████████████████████████████████████████████████████████▍                           | 68/91 [00:31<00:09,  2.51it/s]"
     ]
    },
    {
     "name": "stdout",
     "output_type": "stream",
     "text": [
      "Failed to decode JSON from response content\n"
     ]
    },
    {
     "name": "stderr",
     "output_type": "stream",
     "text": [
      "Generating Q&A:  79%|██████████████████████████████████████████████████████████████████████████████████████▏                      | 72/91 [00:32<00:05,  3.75it/s]"
     ]
    },
    {
     "name": "stdout",
     "output_type": "stream",
     "text": [
      "Failed to decode JSON from response content\n",
      "Failed to decode JSON from response content\n"
     ]
    },
    {
     "name": "stderr",
     "output_type": "stream",
     "text": [
      "Generating Q&A:  85%|████████████████████████████████████████████████████████████████████████████████████████████▏                | 77/91 [00:34<00:04,  3.45it/s]"
     ]
    },
    {
     "name": "stdout",
     "output_type": "stream",
     "text": [
      "Failed to decode JSON from response content\n"
     ]
    },
    {
     "name": "stderr",
     "output_type": "stream",
     "text": [
      "Generating Q&A:  86%|█████████████████████████████████████████████████████████████████████████████████████████████▍               | 78/91 [00:34<00:04,  3.00it/s]"
     ]
    },
    {
     "name": "stdout",
     "output_type": "stream",
     "text": [
      "Failed to decode JSON from response content\n"
     ]
    },
    {
     "name": "stderr",
     "output_type": "stream",
     "text": [
      "Generating Q&A:  92%|████████████████████████████████████████████████████████████████████████████████████████████████████▌        | 84/91 [00:37<00:02,  2.55it/s]"
     ]
    },
    {
     "name": "stdout",
     "output_type": "stream",
     "text": [
      "Failed to decode JSON from response content\n"
     ]
    },
    {
     "name": "stderr",
     "output_type": "stream",
     "text": [
      "Generating Q&A:  99%|███████████████████████████████████████████████████████████████████████████████████████████████████████████▊ | 90/91 [00:39<00:00,  3.17it/s]"
     ]
    },
    {
     "name": "stdout",
     "output_type": "stream",
     "text": [
      "Failed to decode JSON from response content\n"
     ]
    },
    {
     "name": "stderr",
     "output_type": "stream",
     "text": [
      "Generating Q&A: 100%|█████████████████████████████████████████████████████████████████████████████████████████████████████████████| 91/91 [00:40<00:00,  2.24it/s]"
     ]
    },
    {
     "name": "stdout",
     "output_type": "stream",
     "text": [
      "Failed to decode JSON from response content\n"
     ]
    },
    {
     "name": "stderr",
     "output_type": "stream",
     "text": [
      "\n"
     ]
    }
   ],
   "source": [
    "data = pd.read_csv('data/classFeatures.csv')\n",
    "openai.api_key = \"<CHANGE>\"\n",
    "client = openai.ChatCompletion\n",
    "\n",
    "def generate_qa_for_class(row):\n",
    "    context = (\n",
    "        \"Generate training data for a language model. Provide detailed answers to each question in the following format: \\n\"\n",
    "        \"[{input: <question>, output: <detailed answer>}, ...] \\n\"\n",
    "        \"ALWAYS respond with a valid json \\n\\n\"\n",
    "        f\"Here is the data for this class: {row.to_dict()}\"\n",
    "    )\n",
    "    \n",
    "    questions = [\n",
    "        f\"What is {row['Class Title']}?\",\n",
    "        f\"Can you describe {row['Class Code']}?\",\n",
    "        f\"How many credit hours is {row['Class Title']} worth?\",\n",
    "        f\"Who teaches {row['Class Title']}?\",\n",
    "        f\"What is the academic career for {row['Class Title']}?\",\n",
    "        f\"Are there any restrictions such as prerequisites for enrolling in {row['Class Title']}?\"\n",
    "    ]\n",
    "\n",
    "    messages = [\n",
    "        {\"role\": \"system\", \"content\": context},\n",
    "        *[\n",
    "            {\"role\": \"user\", \"content\": question}\n",
    "            for question in questions\n",
    "        ]\n",
    "    ]\n",
    "\n",
    "    response = client.create(\n",
    "        model=\"gpt-3.5-turbo-16k\",\n",
    "        messages=messages,\n",
    "        temperature=1,\n",
    "        max_tokens=4096,\n",
    "        top_p=1,\n",
    "        frequency_penalty=0,\n",
    "        presence_penalty=0\n",
    "    )\n",
    "\n",
    "    content_str = response['choices'][0]['message']['content']\n",
    "    # remove markdown tokens\n",
    "    content_str = content_str.replace('```json', '').replace('```', '').strip()\n",
    "\n",
    "    try:\n",
    "        qa_pairs = json.loads(content_str)\n",
    "        formatted_pairs = [{'input': pair['input'], 'output': pair['output']} for pair in qa_pairs]\n",
    "    except json.JSONDecodeError:\n",
    "        with open(\"invalidData.txt\", \"a\") as file:\n",
    "            file.write(content_str + \"\\n\")\n",
    "        print(f\"Failed to decode JSON from response content\")\n",
    "        formatted_pairs = []\n",
    "\n",
    "    return formatted_pairs\n",
    "\n",
    "\n",
    "# Limit to CSCI\n",
    "data = data[data['Class Code'].str.contains(\"CSCI\")]\n",
    "results = []\n",
    "maxThreads = 15 # anything over 15 will hit the openai rate limit, so keep this to 15\n",
    "\n",
    "\n",
    "with ThreadPoolExecutor(max_workers=maxThreads) as executor:\n",
    "    futures = [executor.submit(generate_qa_for_class, row) for index, row in data.iloc[:100].iterrows()]\n",
    "    for future in tqdm(as_completed(futures), total=len(futures), desc=\"Generating Q&A\"):\n",
    "        results.extend(future.result())\n",
    "\n",
    "\n",
    "qa_df = pd.DataFrame(results)\n",
    "qa_df.to_csv('train_data/class_qa_csci.csv', index=False)"
   ]
  },
  {
   "cell_type": "code",
   "execution_count": null,
   "id": "3c1fb1a4-d9bc-44a9-945b-ca45ed9e9f7d",
   "metadata": {},
   "outputs": [],
   "source": []
  }
 ],
 "metadata": {
  "kernelspec": {
   "display_name": "Python 3 (ipykernel)",
   "language": "python",
   "name": "python3"
  },
  "language_info": {
   "codemirror_mode": {
    "name": "ipython",
    "version": 3
   },
   "file_extension": ".py",
   "mimetype": "text/x-python",
   "name": "python",
   "nbconvert_exporter": "python",
   "pygments_lexer": "ipython3",
   "version": "3.11.5"
  }
 },
 "nbformat": 4,
 "nbformat_minor": 5
}
