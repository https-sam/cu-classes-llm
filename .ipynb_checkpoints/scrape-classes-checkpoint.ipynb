{
 "cells": [
  {
   "cell_type": "code",
   "execution_count": 11,
   "id": "e1c44614-c718-4d6a-9cee-45254909d934",
   "metadata": {},
   "outputs": [],
   "source": [
    "import requests\n",
    "import json\n",
    "import pandas as pd\n",
    "from tqdm import tqdm\n",
    "from concurrent.futures import ThreadPoolExecutor\n",
    "import concurrent.futures"
   ]
  },
  {
   "cell_type": "code",
   "execution_count": 12,
   "id": "6153d047-0db2-421c-b912-059c651f26b9",
   "metadata": {},
   "outputs": [],
   "source": [
    "classSearchAPI = 'https://classes.colorado.edu/api/?page=fose&route=search&camp=BLDR'\n",
    "classDetailsAPI = 'https://classes.colorado.edu/api/?page=fose&route=details'\n",
    "dataDir = 'data/'\n",
    "rawClassDataFilename = dataDir+'classes.json'\n",
    "classDetailsDataFilename = dataDir+'classDetails.json'\n",
    "maxThreads = 30"
   ]
  },
  {
   "cell_type": "code",
   "execution_count": 13,
   "id": "4be3a986-50cb-40a0-9a67-15912dc6717d",
   "metadata": {},
   "outputs": [],
   "source": [
    "# Fetch classes data - limit to boulder campus only\n",
    "headers = {\n",
    "    'Content-Type': 'application/json',\n",
    "    'Accept': 'application/json, text/javascript, */*; q=0.01',\n",
    "    'Sec-Fetch-Site': 'same-origin',\n",
    "    'Accept-Language': 'en-US,en;q=0.9',\n",
    "    'Accept-Encoding': 'gzip, deflate, br',\n",
    "    'Sec-Fetch-Mode': 'cors',\n",
    "    'Host': 'classes.colorado.edu',\n",
    "    'Origin': 'https://classes.colorado.edu',\n",
    "    'User-Agent': 'Mozilla/5.0 (Macintosh; Intel Mac OS X 10_15_7) AppleWebKit/605.1.15 (KHTML, like Gecko) Version/17.2.1 Safari/605.1.15',\n",
    "    'Referer': 'https://classes.colorado.edu',\n",
    "    'Connection': 'keep-alive',\n",
    "    'Sec-Fetch-Dest': 'empty',\n",
    "    'X-Requested-With': 'XMLHttpRequest',\n",
    "}\n",
    "body = '{\"other\":{\"srcdb\":\"2247\"},\"criteria\":[{\"field\":\"camp\",\"value\":\"BLDR\"}]}'\n",
    "\n",
    "response = requests.post(classSearchAPI, headers=headers, data=body)\n",
    "\n",
    "with open(rawClassDataFilename, 'w') as file:\n",
    "    file.write(response.text)"
   ]
  },
  {
   "cell_type": "code",
   "execution_count": 14,
   "id": "266e2463-28d8-4bee-9840-17d873db3f41",
   "metadata": {},
   "outputs": [],
   "source": [
    "def getClassDetails(group, crns):\n",
    "    headers = {\n",
    "        'Accept': 'application/json, text/javascript, */*; q=0.01',\n",
    "        'Accept-Language': 'en-US,en;q=0.9',\n",
    "        'Content-Type': 'application/json',\n",
    "        'User-Agent': 'Mozilla/5.0 (Macintosh; Intel Mac OS X 10_15_7) AppleWebKit/605.1.15 (KHTML, like Gecko) Version/17.2.1 Safari/605.1.15',\n",
    "        'X-Requested-With': 'XMLHttpRequest',\n",
    "    }\n",
    "\n",
    "    data = json.dumps({\n",
    "        \"group\": \"code:\" + group,\n",
    "        \"key\": \"\",\n",
    "        \"srcdb\": \"2247\",\n",
    "        \"matched\": \"crn:\" + \",\".join(crns) # Different sections\n",
    "    })\n",
    "    \n",
    "    response = requests.post(classDetailsAPI, headers=headers, data=data)\n",
    "    return response.json()"
   ]
  },
  {
   "cell_type": "code",
   "execution_count": null,
   "id": "950ad218-d0b0-4e17-9dd6-cc8b0e2968be",
   "metadata": {},
   "outputs": [],
   "source": [
    "# Given the raw classes data, populate class details\n",
    "\n",
    "data = json.load(open(rawClassDataFilename))\n",
    "df = pd.DataFrame(data['results'])\n",
    "\n",
    "# Group by code and collect its crns\n",
    "groupByCode = df.groupby('code')['crn'].apply(list).reset_index()\n",
    "details_results = []\n",
    "\n",
    "# With multithreading, fetch class details concurrently\n",
    "with ThreadPoolExecutor(max_workers=maxThreads) as executor:\n",
    "    futures = [executor.submit(getClassDetails, row['code'], row['crn']) for index, row in groupByCode.iterrows()]\n",
    "    details_results = [future.result() for future in tqdm(concurrent.futures.as_completed(futures), total=len(futures))]\n",
    "\n",
    "# Save class details to a JSON file\n",
    "json_data = json.dumps(details_results, indent=4)\n",
    "with open(classDetailsDataFilename, 'w') as file:\n",
    "    file.write(json_data)"
   ]
  }
 ],
 "metadata": {
  "kernelspec": {
   "display_name": "Python 3 (ipykernel)",
   "language": "python",
   "name": "python3"
  },
  "language_info": {
   "codemirror_mode": {
    "name": "ipython",
    "version": 3
   },
   "file_extension": ".py",
   "mimetype": "text/x-python",
   "name": "python",
   "nbconvert_exporter": "python",
   "pygments_lexer": "ipython3",
   "version": "3.11.5"
  }
 },
 "nbformat": 4,
 "nbformat_minor": 5
}
